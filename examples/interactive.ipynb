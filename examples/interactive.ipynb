{
 "cells": [
  {
   "cell_type": "markdown",
   "metadata": {},
   "source": [
    "# Interactive plotting with ipywidgets"
   ]
  },
  {
   "cell_type": "code",
   "execution_count": null,
   "metadata": {},
   "outputs": [],
   "source": [
    "import numpy as np\n",
    "from poincare import Derivative, Parameter, System, Variable, assign, initial, Simulator\n",
    "\n",
    "\n",
    "class Oscillator(System):\n",
    "    x: Variable = initial(default=1)\n",
    "    vx: Derivative = x.derive(initial=0)\n",
    "    spring_constant: Parameter = assign(default=1)\n",
    "    spring = vx.derive() << -spring_constant * x"
   ]
  },
  {
   "cell_type": "markdown",
   "metadata": {},
   "source": [
    "Create a `Simulator` and call `.interact`\n",
    "with a tuple of `(start, stop, step)` for each parameter:"
   ]
  },
  {
   "cell_type": "code",
   "execution_count": null,
   "metadata": {},
   "outputs": [],
   "source": [
    "Simulator(Oscillator).interact(\n",
    "    times=np.linspace(0, 50, 1000),\n",
    "    values={Oscillator.spring_constant: (0, 10, 0.1)},\n",
    ")"
   ]
  },
  {
   "cell_type": "markdown",
   "metadata": {},
   "source": [
    "We can customize the function applied to the DataFrame with the results,\n",
    "to perform a customized plot:"
   ]
  },
  {
   "cell_type": "code",
   "execution_count": null,
   "metadata": {},
   "outputs": [],
   "source": [
    "Simulator(Oscillator).interact(\n",
    "    times=np.linspace(0, 50, 1000),\n",
    "    values={Oscillator.spring_constant: (0, 10, 0.1)},\n",
    "    func=lambda df: df.plot(title=\"Harmonic oscillator\", figsize=(6, 2)),\n",
    ")"
   ]
  },
  {
   "cell_type": "code",
   "execution_count": null,
   "metadata": {},
   "outputs": [],
   "source": [
    "Simulator(Oscillator).interact(\n",
    "    times=np.linspace(0, 50, 1000),\n",
    "    values={Oscillator.spring_constant: (0, 10, 0.1)},\n",
    "    func=lambda df: df.set_index(\"vx\").plot(xlim=(-3, 3), ylim=(-3, 3), figsize=(6, 2)),\n",
    ")"
   ]
  },
  {
   "cell_type": "markdown",
   "metadata": {},
   "source": [
    "We can pass a dictionary to `Simulator(..., transform={...})`\n",
    "to control the output variables,\n",
    "renaming them or calculating new expressions."
   ]
  },
  {
   "cell_type": "code",
   "execution_count": null,
   "metadata": {},
   "outputs": [],
   "source": [
    "Simulator(\n",
    "    Oscillator,\n",
    "    transform={\n",
    "        \"position\": Oscillator.x,\n",
    "        \"velocity\": Oscillator.vx,\n",
    "        \"$x^2 + (v_x / \\\\omega)^2$\": (Oscillator.vx / Oscillator.spring_constant**0.5)\n",
    "        ** 2\n",
    "        + Oscillator.x**2,\n",
    "    },\n",
    ").interact(\n",
    "    times=np.linspace(0, 50, 1000),\n",
    "    values={\n",
    "        Oscillator.x: (0, 10, 0.1),\n",
    "        Oscillator.vx: (-10, 10, 0.1),\n",
    "        Oscillator.spring_constant: (0, 4, 0.1),\n",
    "    },\n",
    ")"
   ]
  }
 ],
 "metadata": {
  "kernelspec": {
   "display_name": "poincare",
   "language": "python",
   "name": "python3"
  },
  "language_info": {
   "codemirror_mode": {
    "name": "ipython",
    "version": 3
   },
   "file_extension": ".py",
   "mimetype": "text/x-python",
   "name": "python",
   "nbconvert_exporter": "python",
   "pygments_lexer": "ipython3",
   "version": "3.11.4"
  },
  "orig_nbformat": 4
 },
 "nbformat": 4,
 "nbformat_minor": 2
}
